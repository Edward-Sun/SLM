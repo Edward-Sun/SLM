{
 "cells": [
  {
   "cell_type": "code",
   "execution_count": 1,
   "metadata": {},
   "outputs": [],
   "source": [
    "import numpy as np\n",
    "\n",
    "with open('unigram256.txt', 'r') as fin:\n",
    "    line = fin.readline()\n",
    "    num_vocab, hidden_dim = line.strip().split()\n",
    "    num_vocab = int(num_vocab)\n",
    "    hidden_dim = int(hidden_dim)\n",
    "    \n",
    "    words = []\n",
    "    tmp = []\n",
    "    \n",
    "    words.append('<BOS>')\n",
    "    tmp.append([0.0]*hidden_dim)\n",
    "    \n",
    "    words.append('<UNK>')\n",
    "    tmp.append([0.0]*hidden_dim)\n",
    "    \n",
    "    for line in fin:\n",
    "        line = line.strip().split()\n",
    "        words.append(line[0])\n",
    "        tmp.append([float(_) for _ in line[1:]])\n",
    "    \n",
    "    tmp = np.asarray(tmp)\n",
    "    np.save('embedding', tmp)\n",
    "    with open('vocab.txt', 'w') as fout:\n",
    "        for word in words:\n",
    "            fout.write(word+'\\n')"
   ]
  }
 ],
 "metadata": {
  "kernelspec": {
   "display_name": "Python 3",
   "language": "python",
   "name": "python3"
  },
  "language_info": {
   "codemirror_mode": {
    "name": "ipython",
    "version": 3
   },
   "file_extension": ".py",
   "mimetype": "text/x-python",
   "name": "python",
   "nbconvert_exporter": "python",
   "pygments_lexer": "ipython3",
   "version": "3.6.8"
  }
 },
 "nbformat": 4,
 "nbformat_minor": 2
}
